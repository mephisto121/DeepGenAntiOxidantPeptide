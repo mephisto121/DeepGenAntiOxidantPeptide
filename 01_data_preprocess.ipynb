{
 "cells": [
  {
   "cell_type": "code",
   "execution_count": null,
   "metadata": {},
   "outputs": [],
   "source": [
    "import numpy as np\n",
    "import pandas as pd\n",
    "\n",
    "from helper_functions import filter_len\n",
    "\n",
    "folder = \"data/\""
   ]
  },
  {
   "cell_type": "code",
   "execution_count": 2,
   "metadata": {},
   "outputs": [],
   "source": [
    "df_antiox = pd.read_csv(\"data/antiox.csv\")\n",
    "df_base = pd.read_csv(\"data\\ProteasomeDB.csv\")"
   ]
  },
  {
   "cell_type": "code",
   "execution_count": 5,
   "metadata": {},
   "outputs": [
    {
     "data": {
      "text/plain": [
       "607"
      ]
     },
     "execution_count": 5,
     "metadata": {},
     "output_type": "execute_result"
    }
   ],
   "source": [
    "data_antiox = []\n",
    "for i, seq in enumerate(df_antiox.Sequence):\n",
    "    if len(seq)<=20:\n",
    "        if df_antiox[\"FRS\"][i] ==1 and df_antiox['Chelator'][i] ==0:\n",
    "            data_antiox.append(seq)\n",
    "\n",
    "len(data_antiox)"
   ]
  },
  {
   "cell_type": "code",
   "execution_count": 6,
   "metadata": {},
   "outputs": [
    {
     "name": "stdout",
     "output_type": "stream",
     "text": [
      "136352\n"
     ]
    }
   ],
   "source": [
    "general_peptide_data = filter_len(list(df_base.pepSeq), 20)\n",
    "print(len(general_peptide_data))"
   ]
  },
  {
   "cell_type": "code",
   "execution_count": 7,
   "metadata": {},
   "outputs": [],
   "source": [
    "df_general_peptide_data = pd.DataFrame(general_peptide_data, columns=[\"Sequence\"])\n",
    "df_general_peptide_data.to_csv(folder+\"general_peptide_data.csv\")"
   ]
  },
  {
   "cell_type": "code",
   "execution_count": 8,
   "metadata": {},
   "outputs": [],
   "source": [
    "df_antiox_peptide_data = pd.DataFrame(data_antiox, columns=[\"Sequence\"])\n",
    "df_antiox_peptide_data.to_csv(folder+\"df_antiox_peptide_data.csv\")"
   ]
  }
 ],
 "metadata": {
  "kernelspec": {
   "display_name": "antiox",
   "language": "python",
   "name": "python3"
  },
  "language_info": {
   "codemirror_mode": {
    "name": "ipython",
    "version": 3
   },
   "file_extension": ".py",
   "mimetype": "text/x-python",
   "name": "python",
   "nbconvert_exporter": "python",
   "pygments_lexer": "ipython3",
   "version": "3.8.0 (default, Nov  6 2019, 16:00:02) [MSC v.1916 64 bit (AMD64)]"
  },
  "orig_nbformat": 4,
  "vscode": {
   "interpreter": {
    "hash": "529e151afd2faa7bc0c63ddb13e7fe6fa81c1d032290d0d845c54022c1f2d4ed"
   }
  }
 },
 "nbformat": 4,
 "nbformat_minor": 2
}
