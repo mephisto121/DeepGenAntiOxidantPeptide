{
 "cells": [
  {
   "cell_type": "code",
   "execution_count": 1,
   "metadata": {},
   "outputs": [
    {
     "name": "stderr",
     "output_type": "stream",
     "text": [
      "f:\\anaconda\\lib\\site-packages\\numpy\\_distributor_init.py:30: UserWarning: loaded more than 1 DLL from .libs:\n",
      "f:\\anaconda\\lib\\site-packages\\numpy\\.libs\\libopenblas.EL2C6PLE4ZYW3ECEVIV3OXXGRN2NRFM2.gfortran-win_amd64.dll\n",
      "f:\\anaconda\\lib\\site-packages\\numpy\\.libs\\libopenblas.WCDJNK7YVMPZQ2ME2ZZHJJRJ3JIKNDB7.gfortran-win_amd64.dll\n",
      "  warnings.warn(\"loaded more than 1 DLL from .libs:\"\n"
     ]
    }
   ],
   "source": [
    "import numpy as np\n",
    "import pandas as pd\n",
    "import tensorflow as tf\n",
    "from keras.callbacks import ModelCheckpoint, ReduceLROnPlateau\n",
    "from sklearn.metrics import recall_score\n",
    "from sklearn.model_selection import KFold\n",
    "from sklearn.utils import shuffle\n",
    "from tensorflow import keras\n",
    "from tensorflow.keras import layers\n",
    "from tensorflow.keras.layers import TextVectorization\n",
    "from tensorflow.keras.metrics import Precision\n",
    "from tensorflow.keras.models import Model\n",
    "\n",
    "from helper_functions import get_model_name\n",
    "from vocab import Vocab"
   ]
  },
  {
   "cell_type": "code",
   "execution_count": 2,
   "metadata": {},
   "outputs": [],
   "source": [
    "train_data = pd.read_csv(\"data\\Classification_data.csv\")"
   ]
  },
  {
   "cell_type": "code",
   "execution_count": 3,
   "metadata": {},
   "outputs": [],
   "source": [
    "Seq = []\n",
    "labels = []\n",
    "\n",
    "for i, seq in enumerate(train_data.Sequence):\n",
    "\n",
    "    if train_data['Chelator'][i] == 0 and train_data[\"FRS\"][i] ==1:\n",
    "        if 1<len(train_data[\"Sequence\"][i]) <=20:\n",
    "            Seq.append(train_data[\"Sequence\"][i])\n",
    "            labels.append(1)\n",
    "\n",
    "    elif train_data['Chelator'][i]==1 and train_data['FRS'][i] == 1:\n",
    "        if 1<len(train_data[\"Sequence\"][i]) <=20:\n",
    "            Seq.append(train_data[\"Sequence\"][i])\n",
    "            labels.append(1)\n",
    "\n",
    "    elif train_data['Chelator'][i] == 0 and train_data['FRS'][i] == 0:\n",
    "        if 1<len(train_data[\"Sequence\"][i]) <=20:\n",
    "            Seq.append(train_data[\"Sequence\"][i])\n",
    "            labels.append(0)\n"
   ]
  },
  {
   "cell_type": "code",
   "execution_count": 4,
   "metadata": {},
   "outputs": [],
   "source": [
    "Xdata = np.array(Seq)\n",
    "Ydata = np.array(labels)\n",
    "\n",
    "Xdata, Ydata = shuffle(Xdata, Ydata, random_state=42)"
   ]
  },
  {
   "cell_type": "code",
   "execution_count": 5,
   "metadata": {},
   "outputs": [],
   "source": [
    "text_vectorizer = TextVectorization(\n",
    "                                    standardize=None,\n",
    "                                    split =\"character\",\n",
    "                                    output_mode='int'\n",
    "                                    )\n",
    "text_vectorizer.adapt(Xdata)\n"
   ]
  },
  {
   "cell_type": "code",
   "execution_count": 6,
   "metadata": {},
   "outputs": [
    {
     "data": {
      "text/plain": [
       "22"
      ]
     },
     "execution_count": 6,
     "metadata": {},
     "output_type": "execute_result"
    }
   ],
   "source": [
    "text_vectorizer.vocabulary_size()"
   ]
  },
  {
   "cell_type": "code",
   "execution_count": 7,
   "metadata": {},
   "outputs": [],
   "source": [
    "def model():\n",
    "    tf.random.set_seed(42)\n",
    "    input = layers.Input(shape=(1,), dtype=\"string\")\n",
    "    vect = text_vectorizer(input)\n",
    "    x1 = layers.Embedding(22, 256)(vect)\n",
    "    x2 = layers.Conv1D(128,3)(x1)\n",
    "    x3 = layers.GlobalMaxPooling1D()(x2)\n",
    "    layer1 = tf.keras.layers.LayerNormalization(axis=-1)\n",
    "    xx = layer1(x3)\n",
    "    yhat = layers.Dense(1, activation = \"sigmoid\")(xx)\n",
    "    classification_model = Model(inputs = input, outputs = yhat)\n",
    "    return classification_model"
   ]
  },
  {
   "cell_type": "code",
   "execution_count": null,
   "metadata": {},
   "outputs": [],
   "source": [
    "epochs = 80\n",
    "batch_size = 10\n",
    "\n",
    "name = \"crossval\"\n",
    "n_splits=5\n",
    "kfold = KFold(n_splits=n_splits, shuffle=True)\n",
    "accuracy = []\n",
    "auc = []\n",
    "precision = []\n",
    "fold_no = 1\n",
    "for train, test  in kfold.split(Xdata, Ydata):\n",
    "    train_model = model()\n",
    "    rlr = ReduceLROnPlateau(monitor='val_auc', factor=0.5,patience=5, min_lr=0.000001, verbose=1, min_delta=1e-5)\n",
    "    train_model.compile(optimizer = tf.keras.optimizers.Adam(learning_rate = 0.0003,decay = 0.001),\n",
    "                                loss=tf.keras.losses.BinaryCrossentropy(), \n",
    "                                metrics = ['accuracy', tf.keras.metrics.AUC(), Precision()])\n",
    "    print(f'training fold number {fold_no}')\n",
    "\n",
    "    save_dir = 'Classification_model/'\n",
    "    checkpoint = tf.keras.callbacks.ModelCheckpoint(save_dir+get_model_name(fold_no, name), \n",
    "            monitor='val_accuracy', verbose=1, \n",
    "            save_best_only=True, mode='max')\n",
    "\n",
    "    callbacks_list = [checkpoint, rlr]\n",
    "\n",
    "    history = train_model.fit(Xdata[train], Ydata[train], epochs = epochs, \n",
    "                            validation_data = (Xdata[test], Ydata[test]), \n",
    "                            batch_size = batch_size,\n",
    "                            callbacks = callbacks_list)\n",
    "\n",
    "\n",
    "    train_model.load_weights(save_dir+get_model_name(fold_no, name))\n",
    "    scores = train_model.evaluate(Xdata[test], Ydata[test], verbose=0)\n",
    "    accuracy.append(scores[1])\n",
    "    auc.append(scores[2])\n",
    "    precision.append(scores[3])\n",
    "    y_pred = train_model.predict(Xdata[test])\n",
    "    tf.keras.backend.clear_session()\n",
    "    fold_no+=1"
   ]
  },
  {
   "cell_type": "code",
   "execution_count": 10,
   "metadata": {},
   "outputs": [
    {
     "name": "stdout",
     "output_type": "stream",
     "text": [
      "score per fold:\n",
      "Accuracy in fold 1: 78.90909314155579, \n",
      "AUC in fold 1: 86.6602897644043,\n",
      " Precision in fold1: 78.22580933570862\n",
      "Accuracy in fold 2: 76.72727108001709, \n",
      "AUC in fold 2: 80.22875785827637,\n",
      " Precision in fold2: 74.16666746139526\n",
      "Accuracy in fold 3: 75.27272701263428, \n",
      "AUC in fold 3: 82.27675557136536,\n",
      " Precision in fold3: 79.43262457847595\n",
      "Accuracy in fold 4: 73.72262477874756, \n",
      "AUC in fold 4: 82.35436081886292,\n",
      " Precision in fold4: 77.69784331321716\n",
      "Accuracy in fold 5: 76.27737522125244, \n",
      "AUC in fold 5: 81.09314441680908,\n",
      " Precision in fold5: 72.41379022598267\n"
     ]
    }
   ],
   "source": [
    "print(\"score per fold:\")\n",
    "for i in range(n_splits):\n",
    "    print(f'Accuracy in fold {i+1}: {accuracy[i]*100}, \\nAUC in fold {i+1}: {auc[i]*100},\\n Precision in fold{i+1}: {precision[i]*100}')"
   ]
  },
  {
   "cell_type": "code",
   "execution_count": 15,
   "metadata": {},
   "outputs": [
    {
     "name": "stdout",
     "output_type": "stream",
     "text": [
      "Average Accuracy: 76.18181824684143,\n",
      "Average AUC: 82.5226616859436,\n",
      " Average Precision: 76.38734698295593\n"
     ]
    }
   ],
   "source": [
    "print(f\"Average Accuracy: {sum(accuracy)/5 *100},\\nAverage AUC: {sum(auc)/5 *100},\\n Average Precision: {sum(precision)/5 *100}\")"
   ]
  },
  {
   "cell_type": "code",
   "execution_count": null,
   "metadata": {},
   "outputs": [],
   "source": []
  }
 ],
 "metadata": {
  "kernelspec": {
   "display_name": "antiox",
   "language": "python",
   "name": "python3"
  },
  "language_info": {
   "codemirror_mode": {
    "name": "ipython",
    "version": 3
   },
   "file_extension": ".py",
   "mimetype": "text/x-python",
   "name": "python",
   "nbconvert_exporter": "python",
   "pygments_lexer": "ipython3",
   "version": "3.8.0 (default, Nov  6 2019, 16:00:02) [MSC v.1916 64 bit (AMD64)]"
  },
  "orig_nbformat": 4,
  "vscode": {
   "interpreter": {
    "hash": "529e151afd2faa7bc0c63ddb13e7fe6fa81c1d032290d0d845c54022c1f2d4ed"
   }
  }
 },
 "nbformat": 4,
 "nbformat_minor": 2
}
