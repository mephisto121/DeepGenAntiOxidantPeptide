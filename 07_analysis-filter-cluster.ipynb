{
 "cells": [
  {
   "cell_type": "code",
   "execution_count": 1,
   "metadata": {},
   "outputs": [
    {
     "name": "stderr",
     "output_type": "stream",
     "text": [
      "f:\\anaconda\\lib\\site-packages\\numpy\\_distributor_init.py:30: UserWarning: loaded more than 1 DLL from .libs:\n",
      "f:\\anaconda\\lib\\site-packages\\numpy\\.libs\\libopenblas.EL2C6PLE4ZYW3ECEVIV3OXXGRN2NRFM2.gfortran-win_amd64.dll\n",
      "f:\\anaconda\\lib\\site-packages\\numpy\\.libs\\libopenblas.WCDJNK7YVMPZQ2ME2ZZHJJRJ3JIKNDB7.gfortran-win_amd64.dll\n",
      "  warnings.warn(\"loaded more than 1 DLL from .libs:\"\n"
     ]
    }
   ],
   "source": [
    "import numpy as np\n",
    "import pandas as pd\n",
    "import tensorflow as tf\n",
    "from Levenshtein import distance as lev_dist\n",
    "from rdkit.ML.Cluster.Butina import ClusterData\n",
    "from tensorflow import keras\n",
    "from keras import layers\n",
    "from keras.metrics import AUC, Accuracy, Precision\n",
    "from keras.models import Model\n",
    "\n",
    "from helper_functions import *"
   ]
  },
  {
   "cell_type": "code",
   "execution_count": 2,
   "metadata": {},
   "outputs": [],
   "source": [
    "model1 = tf.keras.models.load_model('Classification_model\\model_crossval1.tf' ,custom_objects ={'Precision': Precision, 'AUC':AUC, \"accuracy\": Accuracy})\n",
    "model2 = tf.keras.models.load_model('Classification_model\\model_crossval2.tf',custom_objects ={'Precision': Precision, 'AUC':AUC, \"accuracy\": Accuracy})\n",
    "model3 = tf.keras.models.load_model('Classification_model\\model_crossval3.tf',custom_objects ={'Precision': Precision, 'AUC':AUC, \"accuracy\": Accuracy})\n",
    "model4 = tf.keras.models.load_model('Classification_model\\model_crossval4.tf',custom_objects ={'Precision': Precision, 'AUC':AUC, \"accuracy\": Accuracy})\n",
    "model5 = tf.keras.models.load_model('Classification_model\\model_crossval5.tf',custom_objects ={'Precision': Precision, 'AUC':AUC, \"accuracy\": Accuracy})"
   ]
  },
  {
   "cell_type": "code",
   "execution_count": 3,
   "metadata": {},
   "outputs": [],
   "source": [
    "df_antiox = pd.read_csv(\"data\\Classification_data.csv\")"
   ]
  },
  {
   "cell_type": "code",
   "execution_count": 4,
   "metadata": {},
   "outputs": [
    {
     "data": {
      "text/html": [
       "<div>\n",
       "<style scoped>\n",
       "    .dataframe tbody tr th:only-of-type {\n",
       "        vertical-align: middle;\n",
       "    }\n",
       "\n",
       "    .dataframe tbody tr th {\n",
       "        vertical-align: top;\n",
       "    }\n",
       "\n",
       "    .dataframe thead th {\n",
       "        text-align: right;\n",
       "    }\n",
       "</style>\n",
       "<table border=\"1\" class=\"dataframe\">\n",
       "  <thead>\n",
       "    <tr style=\"text-align: right;\">\n",
       "      <th></th>\n",
       "      <th>Unnamed: 0</th>\n",
       "      <th>Unnamed: 0.1</th>\n",
       "      <th>Sequence</th>\n",
       "      <th>Source</th>\n",
       "      <th>FRS</th>\n",
       "      <th>Chelator</th>\n",
       "      <th>partition</th>\n",
       "    </tr>\n",
       "  </thead>\n",
       "  <tbody>\n",
       "    <tr>\n",
       "      <th>0</th>\n",
       "      <td>0</td>\n",
       "      <td>0</td>\n",
       "      <td>AHK</td>\n",
       "      <td>10.2174/138161207780414278</td>\n",
       "      <td>1</td>\n",
       "      <td>0</td>\n",
       "      <td>2</td>\n",
       "    </tr>\n",
       "    <tr>\n",
       "      <th>1</th>\n",
       "      <td>1</td>\n",
       "      <td>1</td>\n",
       "      <td>VHH</td>\n",
       "      <td>10.2174/138161207780414278</td>\n",
       "      <td>1</td>\n",
       "      <td>0</td>\n",
       "      <td>0</td>\n",
       "    </tr>\n",
       "    <tr>\n",
       "      <th>2</th>\n",
       "      <td>2</td>\n",
       "      <td>2</td>\n",
       "      <td>VHHANEN</td>\n",
       "      <td>10.2174/138161207780414278</td>\n",
       "      <td>1</td>\n",
       "      <td>0</td>\n",
       "      <td>1</td>\n",
       "    </tr>\n",
       "    <tr>\n",
       "      <th>3</th>\n",
       "      <td>3</td>\n",
       "      <td>3</td>\n",
       "      <td>VNPHDHQN</td>\n",
       "      <td>10.1021/jf00051a004</td>\n",
       "      <td>1</td>\n",
       "      <td>0</td>\n",
       "      <td>4</td>\n",
       "    </tr>\n",
       "    <tr>\n",
       "      <th>4</th>\n",
       "      <td>4</td>\n",
       "      <td>4</td>\n",
       "      <td>LVNPHDHQN</td>\n",
       "      <td>10.1021/jf00051a004</td>\n",
       "      <td>1</td>\n",
       "      <td>0</td>\n",
       "      <td>4</td>\n",
       "    </tr>\n",
       "  </tbody>\n",
       "</table>\n",
       "</div>"
      ],
      "text/plain": [
       "   Unnamed: 0  Unnamed: 0.1   Sequence                      Source  FRS  \\\n",
       "0           0             0        AHK  10.2174/138161207780414278    1   \n",
       "1           1             1        VHH  10.2174/138161207780414278    1   \n",
       "2           2             2    VHHANEN  10.2174/138161207780414278    1   \n",
       "3           3             3   VNPHDHQN         10.1021/jf00051a004    1   \n",
       "4           4             4  LVNPHDHQN         10.1021/jf00051a004    1   \n",
       "\n",
       "   Chelator  partition  \n",
       "0         0          2  \n",
       "1         0          0  \n",
       "2         0          1  \n",
       "3         0          4  \n",
       "4         0          4  "
      ]
     },
     "execution_count": 4,
     "metadata": {},
     "output_type": "execute_result"
    }
   ],
   "source": [
    "df_antiox.head()"
   ]
  },
  {
   "cell_type": "code",
   "execution_count": 5,
   "metadata": {},
   "outputs": [],
   "source": [
    "df_generate = pd.read_csv(\"data\\Filter_Gen_Data.csv\")"
   ]
  },
  {
   "cell_type": "code",
   "execution_count": 6,
   "metadata": {},
   "outputs": [
    {
     "data": {
      "text/html": [
       "<div>\n",
       "<style scoped>\n",
       "    .dataframe tbody tr th:only-of-type {\n",
       "        vertical-align: middle;\n",
       "    }\n",
       "\n",
       "    .dataframe tbody tr th {\n",
       "        vertical-align: top;\n",
       "    }\n",
       "\n",
       "    .dataframe thead th {\n",
       "        text-align: right;\n",
       "    }\n",
       "</style>\n",
       "<table border=\"1\" class=\"dataframe\">\n",
       "  <thead>\n",
       "    <tr style=\"text-align: right;\">\n",
       "      <th></th>\n",
       "      <th>Unnamed: 0</th>\n",
       "      <th>Filter_Gen_Data</th>\n",
       "    </tr>\n",
       "  </thead>\n",
       "  <tbody>\n",
       "    <tr>\n",
       "      <th>0</th>\n",
       "      <td>0</td>\n",
       "      <td>PHKLP</td>\n",
       "    </tr>\n",
       "    <tr>\n",
       "      <th>1</th>\n",
       "      <td>1</td>\n",
       "      <td>RHANF</td>\n",
       "    </tr>\n",
       "    <tr>\n",
       "      <th>2</th>\n",
       "      <td>2</td>\n",
       "      <td>PYFNKL</td>\n",
       "    </tr>\n",
       "    <tr>\n",
       "      <th>3</th>\n",
       "      <td>3</td>\n",
       "      <td>LTVLA</td>\n",
       "    </tr>\n",
       "    <tr>\n",
       "      <th>4</th>\n",
       "      <td>4</td>\n",
       "      <td>SRYPSK</td>\n",
       "    </tr>\n",
       "  </tbody>\n",
       "</table>\n",
       "</div>"
      ],
      "text/plain": [
       "   Unnamed: 0 Filter_Gen_Data\n",
       "0           0           PHKLP\n",
       "1           1           RHANF\n",
       "2           2          PYFNKL\n",
       "3           3           LTVLA\n",
       "4           4          SRYPSK"
      ]
     },
     "execution_count": 6,
     "metadata": {},
     "output_type": "execute_result"
    }
   ],
   "source": [
    "df_generate.head()"
   ]
  },
  {
   "cell_type": "code",
   "execution_count": 7,
   "metadata": {},
   "outputs": [
    {
     "data": {
      "text/plain": [
       "'PHKLP'"
      ]
     },
     "execution_count": 7,
     "metadata": {},
     "output_type": "execute_result"
    }
   ],
   "source": [
    "df_generate[\"Filter_Gen_Data\"][0]"
   ]
  },
  {
   "cell_type": "code",
   "execution_count": 8,
   "metadata": {},
   "outputs": [
    {
     "name": "stdout",
     "output_type": "stream",
     "text": [
      "935/935 [==============================] - 7s 4ms/step\n",
      "935/935 [==============================] - 4s 4ms/step\n",
      "935/935 [==============================] - 4s 4ms/step\n",
      "935/935 [==============================] - 4s 4ms/step\n",
      "935/935 [==============================] - 4s 4ms/step\n"
     ]
    }
   ],
   "source": [
    "m1 = model1.predict(df_generate[\"Filter_Gen_Data\"])\n",
    "m2 = model2.predict(df_generate[\"Filter_Gen_Data\"])\n",
    "m3 = model3.predict(df_generate[\"Filter_Gen_Data\"])\n",
    "m4 = model4.predict(df_generate[\"Filter_Gen_Data\"])\n",
    "m5 = model5.predict(df_generate[\"Filter_Gen_Data\"])"
   ]
  },
  {
   "cell_type": "code",
   "execution_count": 10,
   "metadata": {},
   "outputs": [],
   "source": [
    "model1_lst, perc_model1 = generate_pep_seq(m1, 0.99, df_generate[\"Filter_Gen_Data\"])\n",
    "model2_lst, perc_model2 = generate_pep_seq(m2, 0.99, df_generate[\"Filter_Gen_Data\"])\n",
    "model3_lst, perc_model3 = generate_pep_seq(m3, 0.99, df_generate[\"Filter_Gen_Data\"])\n",
    "model4_lst, perc_model4 = generate_pep_seq(m4, 0.99, df_generate[\"Filter_Gen_Data\"])\n",
    "model5_lst, perc_model5 = generate_pep_seq(m5, 0.99, df_generate[\"Filter_Gen_Data\"])"
   ]
  },
  {
   "cell_type": "code",
   "execution_count": 11,
   "metadata": {},
   "outputs": [],
   "source": [
    "t1 = set(model1_lst).intersection(model2_lst)\n",
    "t2 = set(t1).intersection(model3_lst)\n",
    "t3 = set(t2).intersection(model4_lst)\n",
    "t4 = list(set(t3).intersection(model5_lst))"
   ]
  },
  {
   "cell_type": "code",
   "execution_count": 12,
   "metadata": {},
   "outputs": [
    {
     "data": {
      "text/plain": [
       "124"
      ]
     },
     "execution_count": 12,
     "metadata": {},
     "output_type": "execute_result"
    }
   ],
   "source": [
    "len(t4)"
   ]
  },
  {
   "cell_type": "code",
   "execution_count": 13,
   "metadata": {},
   "outputs": [],
   "source": [
    "df_peptidedb = pd.read_csv(\"data\\dump.csv\")"
   ]
  },
  {
   "cell_type": "code",
   "execution_count": 14,
   "metadata": {},
   "outputs": [
    {
     "data": {
      "text/html": [
       "<div>\n",
       "<style scoped>\n",
       "    .dataframe tbody tr th:only-of-type {\n",
       "        vertical-align: middle;\n",
       "    }\n",
       "\n",
       "    .dataframe tbody tr th {\n",
       "        vertical-align: top;\n",
       "    }\n",
       "\n",
       "    .dataframe thead th {\n",
       "        text-align: right;\n",
       "    }\n",
       "</style>\n",
       "<table border=\"1\" class=\"dataframe\">\n",
       "  <thead>\n",
       "    <tr style=\"text-align: right;\">\n",
       "      <th></th>\n",
       "      <th>idpeptide</th>\n",
       "      <th>sequence</th>\n",
       "      <th>activity</th>\n",
       "    </tr>\n",
       "  </thead>\n",
       "  <tbody>\n",
       "    <tr>\n",
       "      <th>0</th>\n",
       "      <td>1</td>\n",
       "      <td>FNKLKQGSSKRTCAKCFRKIMPSVHELDERRRGANRWAAGFRKCVS...</td>\n",
       "      <td>NaN</td>\n",
       "    </tr>\n",
       "  </tbody>\n",
       "</table>\n",
       "</div>"
      ],
      "text/plain": [
       "   idpeptide                                           sequence  activity\n",
       "0          1  FNKLKQGSSKRTCAKCFRKIMPSVHELDERRRGANRWAAGFRKCVS...       NaN"
      ]
     },
     "execution_count": 14,
     "metadata": {},
     "output_type": "execute_result"
    }
   ],
   "source": [
    "df_peptidedb.head(1)"
   ]
  },
  {
   "cell_type": "code",
   "execution_count": 15,
   "metadata": {},
   "outputs": [],
   "source": [
    "repeated = set(t4).intersection(df_peptidedb[\"sequence\"])"
   ]
  },
  {
   "cell_type": "code",
   "execution_count": 16,
   "metadata": {},
   "outputs": [
    {
     "data": {
      "text/plain": [
       "{'WYW', 'YHYHH'}"
      ]
     },
     "execution_count": 16,
     "metadata": {},
     "output_type": "execute_result"
    }
   ],
   "source": [
    "repeated"
   ]
  },
  {
   "cell_type": "code",
   "execution_count": 17,
   "metadata": {},
   "outputs": [],
   "source": [
    "t4.remove(\"WYW\")\n",
    "t4.remove('YHYHH')"
   ]
  },
  {
   "cell_type": "code",
   "execution_count": 18,
   "metadata": {},
   "outputs": [
    {
     "data": {
      "text/plain": [
       "122"
      ]
     },
     "execution_count": 18,
     "metadata": {},
     "output_type": "execute_result"
    }
   ],
   "source": [
    "len(t4)"
   ]
  },
  {
   "cell_type": "code",
   "execution_count": 19,
   "metadata": {},
   "outputs": [],
   "source": [
    "ofile = open(\"122_gen_pep_fasta.txt\", \"w\")\n",
    "\n",
    "for i in range(len(t4)):\n",
    "\n",
    "    ofile.write(\">\" + str(i+1)+\"|\" + \"\\n\" +t4[i] + \"\\n\")\n",
    "\n",
    "\n",
    "ofile.close()"
   ]
  },
  {
   "cell_type": "code",
   "execution_count": 20,
   "metadata": {},
   "outputs": [],
   "source": [
    "ofile = open(\"122_gen_pep_text.txt\", \"w\")\n",
    "\n",
    "for i in range(len(t4)):\n",
    "\n",
    "    ofile.write(t4[i] + \"\\n\")\n",
    "\n",
    "\n",
    "ofile.close()"
   ]
  },
  {
   "cell_type": "code",
   "execution_count": 21,
   "metadata": {},
   "outputs": [],
   "source": [
    "\"\"\"After the part above, all the 122 peptide sequences were check for their toxicity activity \n",
    "    by two different servers. One was ToxinPred and the second was ToxIBTL. \n",
    "    The intersection of both methods return 76 peptides.\n",
    "\"\"\"\n",
    "not_toxic =[]\n",
    "df_toxic = pd.read_excel(\"data\\ToxIBTL-pep.xlsx\")\n",
    "for i, seq in enumerate(df_toxic[\"Peptide\"]):\n",
    "    if df_toxic[\"Sequence label\"][i] == 0:\n",
    "        not_toxic.append(df_toxic[\"Peptide\"][i])"
   ]
  },
  {
   "cell_type": "code",
   "execution_count": 22,
   "metadata": {},
   "outputs": [],
   "source": [
    "nn, nn_seq, filterd_nn_seqs= [], [], []\n",
    "\n",
    "for i, seq in enumerate(not_toxic):\n",
    "    n, n_seq, _ = find_seqNN(seq, df_antiox)\n",
    "    if n>=2:\n",
    "        nn.append(n)\n",
    "        nn_seq.append(n_seq)\n",
    "        filterd_nn_seqs.append(seq)"
   ]
  },
  {
   "cell_type": "code",
   "execution_count": 23,
   "metadata": {},
   "outputs": [],
   "source": [
    "cluster = ClusterData(filterd_nn_seqs, len(filterd_nn_seqs), 2, distFunc=lev_dist)"
   ]
  },
  {
   "cell_type": "code",
   "execution_count": 24,
   "metadata": {},
   "outputs": [
    {
     "data": {
      "text/plain": [
       "12"
      ]
     },
     "execution_count": 24,
     "metadata": {},
     "output_type": "execute_result"
    }
   ],
   "source": [
    "len(cluster)"
   ]
  },
  {
   "cell_type": "code",
   "execution_count": 25,
   "metadata": {},
   "outputs": [],
   "source": [
    "idx = []\n",
    "for clu in cluster:\n",
    "    idx.append(clu[0])"
   ]
  },
  {
   "cell_type": "code",
   "execution_count": 26,
   "metadata": {},
   "outputs": [
    {
     "data": {
      "text/plain": [
       "[52, 25, 0, 9, 6, 27, 2, 40, 21, 50, 23, 1]"
      ]
     },
     "execution_count": 26,
     "metadata": {},
     "output_type": "execute_result"
    }
   ],
   "source": [
    "idx"
   ]
  },
  {
   "cell_type": "code",
   "execution_count": 27,
   "metadata": {},
   "outputs": [
    {
     "name": "stdout",
     "output_type": "stream",
     "text": [
      "['PHYH', 'AHHHW', 'YWHW', 'LHYYMW', 'LYYYH', 'GYYWH', 'YYHPF', 'HWHYL', 'YWYHF', 'PHYY', 'LHHWY', 'YQYYW']\n"
     ]
    }
   ],
   "source": [
    "final_peptides = [not_toxic[i] for i in idx]\n",
    "print(final_peptides)"
   ]
  },
  {
   "cell_type": "code",
   "execution_count": null,
   "metadata": {},
   "outputs": [],
   "source": []
  },
  {
   "cell_type": "code",
   "execution_count": 29,
   "metadata": {},
   "outputs": [],
   "source": [
    "Antiox_filter_cluster = pd.DataFrame(final_peptides, columns=[\"peptide_seq\"])\n",
    "Antiox_filter_cluster[\"ID\"] = idx\n",
    "Antiox_filter_cluster[\"NN\"] = Antiox_filter_cluster[\"ID\"].map(lambda x: nn[x])\n",
    "Antiox_filter_cluster[\"nearest_data\"] = Antiox_filter_cluster[\"ID\"].map(lambda x: nn_seq[x])\n",
    "Antiox_filter_cluster[\"SMILES\"] = Antiox_filter_cluster.peptide_seq.map(seq_to_smiles)\n",
    "Antiox_filter_cluster[\"HydroMoment\"] = Antiox_filter_cluster.peptide_seq.map(hydr_moment)\n",
    "Antiox_filter_cluster[\"charge\"] = Antiox_filter_cluster[\"peptide_seq\"].map(lambda x: calculate_charge(x.upper()))\n",
    "Antiox_filter_cluster[\"hydrophobicity\"] = Antiox_filter_cluster[\"peptide_seq\"].map(lambda x: assign_hydrophobicity(x.upper()))\n",
    "Antiox_filter_cluster[\"av_hydrophobicity\"] = Antiox_filter_cluster[\"hydrophobicity\"].map(lambda x: sum(x)/len(x)) \n",
    "Antiox_filter_cluster[\"discrimination\"] = Antiox_filter_cluster.apply(lambda x: calculate_discrimination(x.HydroMoment, x.charge), axis=1)"
   ]
  },
  {
   "cell_type": "code",
   "execution_count": 30,
   "metadata": {},
   "outputs": [
    {
     "data": {
      "text/html": [
       "<div>\n",
       "<style scoped>\n",
       "    .dataframe tbody tr th:only-of-type {\n",
       "        vertical-align: middle;\n",
       "    }\n",
       "\n",
       "    .dataframe tbody tr th {\n",
       "        vertical-align: top;\n",
       "    }\n",
       "\n",
       "    .dataframe thead th {\n",
       "        text-align: right;\n",
       "    }\n",
       "</style>\n",
       "<table border=\"1\" class=\"dataframe\">\n",
       "  <thead>\n",
       "    <tr style=\"text-align: right;\">\n",
       "      <th></th>\n",
       "      <th>peptide_seq</th>\n",
       "      <th>ID</th>\n",
       "      <th>NN</th>\n",
       "      <th>nearest_data</th>\n",
       "      <th>SMILES</th>\n",
       "      <th>HydroMoment</th>\n",
       "      <th>charge</th>\n",
       "      <th>hydrophobicity</th>\n",
       "      <th>av_hydrophobicity</th>\n",
       "      <th>discrimination</th>\n",
       "    </tr>\n",
       "  </thead>\n",
       "  <tbody>\n",
       "    <tr>\n",
       "      <th>0</th>\n",
       "      <td>PHYH</td>\n",
       "      <td>52</td>\n",
       "      <td>2</td>\n",
       "      <td>HYH</td>\n",
       "      <td>O=C(O)[C@H](Cc1c[nH]cn1)NC(=O)[C@H](Cc1ccc(O)c...</td>\n",
       "      <td>0.056492</td>\n",
       "      <td>0</td>\n",
       "      <td>[0.72, 0.13, 0.96, 0.13]</td>\n",
       "      <td>0.4850</td>\n",
       "      <td>0.053329</td>\n",
       "    </tr>\n",
       "    <tr>\n",
       "      <th>1</th>\n",
       "      <td>AHHHW</td>\n",
       "      <td>25</td>\n",
       "      <td>2</td>\n",
       "      <td>YYH</td>\n",
       "      <td>C[C@H](N)C(=O)N[C@@H](Cc1c[nH]cn1)C(=O)N[C@@H]...</td>\n",
       "      <td>0.168938</td>\n",
       "      <td>0</td>\n",
       "      <td>[0.31, 0.13, 0.13, 0.13, 2.25]</td>\n",
       "      <td>0.5900</td>\n",
       "      <td>0.159477</td>\n",
       "    </tr>\n",
       "    <tr>\n",
       "      <th>2</th>\n",
       "      <td>YWHW</td>\n",
       "      <td>0</td>\n",
       "      <td>2</td>\n",
       "      <td>LHW</td>\n",
       "      <td>N[C@@H](Cc1ccc(O)cc1)C(=O)N[C@@H](Cc1c[nH]c2cc...</td>\n",
       "      <td>0.136834</td>\n",
       "      <td>0</td>\n",
       "      <td>[0.96, 2.25, 0.13, 2.25]</td>\n",
       "      <td>1.3975</td>\n",
       "      <td>0.129171</td>\n",
       "    </tr>\n",
       "    <tr>\n",
       "      <th>3</th>\n",
       "      <td>LHYYMW</td>\n",
       "      <td>9</td>\n",
       "      <td>2</td>\n",
       "      <td>HHW</td>\n",
       "      <td>CSCC[C@H](NC(=O)[C@H](Cc1ccc(O)cc1)NC(=O)[C@H]...</td>\n",
       "      <td>0.084428</td>\n",
       "      <td>0</td>\n",
       "      <td>[1.7, 0.13, 0.96, 0.96, 1.23, 2.25]</td>\n",
       "      <td>1.2050</td>\n",
       "      <td>0.079700</td>\n",
       "    </tr>\n",
       "    <tr>\n",
       "      <th>4</th>\n",
       "      <td>LYYYH</td>\n",
       "      <td>6</td>\n",
       "      <td>2</td>\n",
       "      <td>HYY</td>\n",
       "      <td>CC(C)C[C@H](N)C(=O)N[C@@H](Cc1ccc(O)cc1)C(=O)N...</td>\n",
       "      <td>0.067254</td>\n",
       "      <td>0</td>\n",
       "      <td>[1.7, 0.96, 0.96, 0.96, 0.13]</td>\n",
       "      <td>0.9420</td>\n",
       "      <td>0.063488</td>\n",
       "    </tr>\n",
       "    <tr>\n",
       "      <th>5</th>\n",
       "      <td>GYYWH</td>\n",
       "      <td>27</td>\n",
       "      <td>2</td>\n",
       "      <td>RHH</td>\n",
       "      <td>NCC(=O)N[C@@H](Cc1ccc(O)cc1)C(=O)N[C@@H](Cc1cc...</td>\n",
       "      <td>0.112985</td>\n",
       "      <td>0</td>\n",
       "      <td>[0.0, 0.96, 0.96, 2.25, 0.13]</td>\n",
       "      <td>0.8600</td>\n",
       "      <td>0.106658</td>\n",
       "    </tr>\n",
       "    <tr>\n",
       "      <th>6</th>\n",
       "      <td>YYHPF</td>\n",
       "      <td>2</td>\n",
       "      <td>2</td>\n",
       "      <td>YYH</td>\n",
       "      <td>N[C@@H](Cc1ccc(O)cc1)C(=O)N[C@@H](Cc1ccc(O)cc1...</td>\n",
       "      <td>0.205063</td>\n",
       "      <td>0</td>\n",
       "      <td>[0.96, 0.96, 0.13, 0.72, 1.79]</td>\n",
       "      <td>0.9120</td>\n",
       "      <td>0.193580</td>\n",
       "    </tr>\n",
       "    <tr>\n",
       "      <th>7</th>\n",
       "      <td>HWHYL</td>\n",
       "      <td>40</td>\n",
       "      <td>2</td>\n",
       "      <td>LHG</td>\n",
       "      <td>CC(C)C[C@H](NC(=O)[C@H](Cc1ccc(O)cc1)NC(=O)[C@...</td>\n",
       "      <td>0.177450</td>\n",
       "      <td>0</td>\n",
       "      <td>[0.13, 2.25, 0.13, 0.96, 1.7]</td>\n",
       "      <td>1.0340</td>\n",
       "      <td>0.167513</td>\n",
       "    </tr>\n",
       "    <tr>\n",
       "      <th>8</th>\n",
       "      <td>YWYHF</td>\n",
       "      <td>21</td>\n",
       "      <td>2</td>\n",
       "      <td>YYH</td>\n",
       "      <td>N[C@@H](Cc1ccc(O)cc1)C(=O)N[C@@H](Cc1c[nH]c2cc...</td>\n",
       "      <td>0.222983</td>\n",
       "      <td>0</td>\n",
       "      <td>[0.96, 2.25, 0.96, 0.13, 1.79]</td>\n",
       "      <td>1.2180</td>\n",
       "      <td>0.210496</td>\n",
       "    </tr>\n",
       "    <tr>\n",
       "      <th>9</th>\n",
       "      <td>PHYY</td>\n",
       "      <td>50</td>\n",
       "      <td>3</td>\n",
       "      <td>YLYP</td>\n",
       "      <td>O=C(O)[C@H](Cc1ccc(O)cc1)NC(=O)[C@H](Cc1ccc(O)...</td>\n",
       "      <td>0.104547</td>\n",
       "      <td>0</td>\n",
       "      <td>[0.72, 0.13, 0.96, 0.96]</td>\n",
       "      <td>0.6925</td>\n",
       "      <td>0.098692</td>\n",
       "    </tr>\n",
       "    <tr>\n",
       "      <th>10</th>\n",
       "      <td>LHHWY</td>\n",
       "      <td>23</td>\n",
       "      <td>2</td>\n",
       "      <td>PYY</td>\n",
       "      <td>CC(C)C[C@H](N)C(=O)N[C@@H](Cc1c[nH]cn1)C(=O)N[...</td>\n",
       "      <td>0.260848</td>\n",
       "      <td>0</td>\n",
       "      <td>[1.7, 0.13, 0.13, 2.25, 0.96]</td>\n",
       "      <td>1.0340</td>\n",
       "      <td>0.246241</td>\n",
       "    </tr>\n",
       "    <tr>\n",
       "      <th>11</th>\n",
       "      <td>YQYYW</td>\n",
       "      <td>1</td>\n",
       "      <td>2</td>\n",
       "      <td>YYY</td>\n",
       "      <td>NC(=O)CC[C@H](NC(=O)[C@@H](N)Cc1ccc(O)cc1)C(=O...</td>\n",
       "      <td>0.124706</td>\n",
       "      <td>0</td>\n",
       "      <td>[0.96, -0.22, 0.96, 0.96, 2.25]</td>\n",
       "      <td>0.9820</td>\n",
       "      <td>0.117723</td>\n",
       "    </tr>\n",
       "  </tbody>\n",
       "</table>\n",
       "</div>"
      ],
      "text/plain": [
       "   peptide_seq  ID  NN nearest_data  \\\n",
       "0         PHYH  52   2          HYH   \n",
       "1        AHHHW  25   2          YYH   \n",
       "2         YWHW   0   2          LHW   \n",
       "3       LHYYMW   9   2          HHW   \n",
       "4        LYYYH   6   2          HYY   \n",
       "5        GYYWH  27   2          RHH   \n",
       "6        YYHPF   2   2          YYH   \n",
       "7        HWHYL  40   2          LHG   \n",
       "8        YWYHF  21   2          YYH   \n",
       "9         PHYY  50   3         YLYP   \n",
       "10       LHHWY  23   2          PYY   \n",
       "11       YQYYW   1   2          YYY   \n",
       "\n",
       "                                               SMILES  HydroMoment  charge  \\\n",
       "0   O=C(O)[C@H](Cc1c[nH]cn1)NC(=O)[C@H](Cc1ccc(O)c...     0.056492       0   \n",
       "1   C[C@H](N)C(=O)N[C@@H](Cc1c[nH]cn1)C(=O)N[C@@H]...     0.168938       0   \n",
       "2   N[C@@H](Cc1ccc(O)cc1)C(=O)N[C@@H](Cc1c[nH]c2cc...     0.136834       0   \n",
       "3   CSCC[C@H](NC(=O)[C@H](Cc1ccc(O)cc1)NC(=O)[C@H]...     0.084428       0   \n",
       "4   CC(C)C[C@H](N)C(=O)N[C@@H](Cc1ccc(O)cc1)C(=O)N...     0.067254       0   \n",
       "5   NCC(=O)N[C@@H](Cc1ccc(O)cc1)C(=O)N[C@@H](Cc1cc...     0.112985       0   \n",
       "6   N[C@@H](Cc1ccc(O)cc1)C(=O)N[C@@H](Cc1ccc(O)cc1...     0.205063       0   \n",
       "7   CC(C)C[C@H](NC(=O)[C@H](Cc1ccc(O)cc1)NC(=O)[C@...     0.177450       0   \n",
       "8   N[C@@H](Cc1ccc(O)cc1)C(=O)N[C@@H](Cc1c[nH]c2cc...     0.222983       0   \n",
       "9   O=C(O)[C@H](Cc1ccc(O)cc1)NC(=O)[C@H](Cc1ccc(O)...     0.104547       0   \n",
       "10  CC(C)C[C@H](N)C(=O)N[C@@H](Cc1c[nH]cn1)C(=O)N[...     0.260848       0   \n",
       "11  NC(=O)CC[C@H](NC(=O)[C@@H](N)Cc1ccc(O)cc1)C(=O...     0.124706       0   \n",
       "\n",
       "                         hydrophobicity  av_hydrophobicity  discrimination  \n",
       "0              [0.72, 0.13, 0.96, 0.13]             0.4850        0.053329  \n",
       "1        [0.31, 0.13, 0.13, 0.13, 2.25]             0.5900        0.159477  \n",
       "2              [0.96, 2.25, 0.13, 2.25]             1.3975        0.129171  \n",
       "3   [1.7, 0.13, 0.96, 0.96, 1.23, 2.25]             1.2050        0.079700  \n",
       "4         [1.7, 0.96, 0.96, 0.96, 0.13]             0.9420        0.063488  \n",
       "5         [0.0, 0.96, 0.96, 2.25, 0.13]             0.8600        0.106658  \n",
       "6        [0.96, 0.96, 0.13, 0.72, 1.79]             0.9120        0.193580  \n",
       "7         [0.13, 2.25, 0.13, 0.96, 1.7]             1.0340        0.167513  \n",
       "8        [0.96, 2.25, 0.96, 0.13, 1.79]             1.2180        0.210496  \n",
       "9              [0.72, 0.13, 0.96, 0.96]             0.6925        0.098692  \n",
       "10        [1.7, 0.13, 0.13, 2.25, 0.96]             1.0340        0.246241  \n",
       "11      [0.96, -0.22, 0.96, 0.96, 2.25]             0.9820        0.117723  "
      ]
     },
     "execution_count": 30,
     "metadata": {},
     "output_type": "execute_result"
    }
   ],
   "source": [
    "Antiox_filter_cluster"
   ]
  },
  {
   "cell_type": "code",
   "execution_count": 31,
   "metadata": {},
   "outputs": [],
   "source": [
    "Antiox_filter_cluster.to_csv(\"data/filter_cluster_data.csv\")"
   ]
  },
  {
   "cell_type": "code",
   "execution_count": null,
   "metadata": {},
   "outputs": [],
   "source": []
  }
 ],
 "metadata": {
  "kernelspec": {
   "display_name": "Python 3.8.8 ('base')",
   "language": "python",
   "name": "python3"
  },
  "language_info": {
   "codemirror_mode": {
    "name": "ipython",
    "version": 3
   },
   "file_extension": ".py",
   "mimetype": "text/x-python",
   "name": "python",
   "nbconvert_exporter": "python",
   "pygments_lexer": "ipython3",
   "version": "3.8.8 (default, Apr 13 2021, 15:08:03) [MSC v.1916 64 bit (AMD64)]"
  },
  "orig_nbformat": 4,
  "vscode": {
   "interpreter": {
    "hash": "ec3b6344b8b3f6c3db1463248c46b8920f4fc68f6187e2c1e71f56a52299e245"
   }
  }
 },
 "nbformat": 4,
 "nbformat_minor": 2
}
